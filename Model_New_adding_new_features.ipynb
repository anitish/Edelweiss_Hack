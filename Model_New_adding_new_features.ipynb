{
 "cells": [
  {
   "cell_type": "code",
   "execution_count": 1,
   "metadata": {},
   "outputs": [],
   "source": [
    "import numpy as np\n",
    "import pandas as pd\n",
    "import os"
   ]
  },
  {
   "cell_type": "code",
   "execution_count": 11,
   "metadata": {},
   "outputs": [],
   "source": [
    "import time"
   ]
  },
  {
   "cell_type": "code",
   "execution_count": 12,
   "metadata": {},
   "outputs": [],
   "source": [
    "# pd.set_option('display.max_rows', 500)\n",
    "pd.set_option('display.max_columns', 500)\n",
    "# pd.set_option('display.width', 1000)\n",
    "# pd.set_option('display.expand_frame_repr', True) "
   ]
  },
  {
   "cell_type": "code",
   "execution_count": 5,
   "metadata": {},
   "outputs": [],
   "source": [
    "import matplotlib.pyplot as plt\n",
    "%matplotlib inline\n",
    "import seaborn as sns\n",
    "import numpy as np\n",
    "import random\n",
    "import datetime\n",
    "import warnings\n",
    "warnings.filterwarnings('ignore')"
   ]
  },
  {
   "cell_type": "code",
   "execution_count": 6,
   "metadata": {},
   "outputs": [],
   "source": [
    "# Imports for better visualization\n",
    "from matplotlib import rcParams\n",
    "#colorbrewer2 Dark2 qualitative color table\n",
    "dark2_colors = [(0.10588235294117647, 0.6196078431372549, 0.4666666666666667),\n",
    "                (0.8509803921568627, 0.37254901960784315, 0.00784313725490196),\n",
    "                (0.4588235294117647, 0.4392156862745098, 0.7019607843137254),\n",
    "                (0.9058823529411765, 0.1607843137254902, 0.5411764705882353),\n",
    "                (0.4, 0.6509803921568628, 0.11764705882352941),\n",
    "                (0.9019607843137255, 0.6705882352941176, 0.00784313725490196),\n",
    "                (0.6509803921568628, 0.4627450980392157, 0.11372549019607843)]\n",
    "\n",
    "rcParams['figure.figsize'] = (10, 4)\n",
    "rcParams['figure.dpi'] = 150\n",
    "#rcParams['axes.color_cycle'] = dark2_colors\n",
    "rcParams['lines.linewidth'] = 2\n",
    "rcParams['font.size'] = 8\n",
    "rcParams['patch.edgecolor'] = 'white'\n",
    "rcParams['patch.facecolor'] = dark2_colors[0]\n",
    "rcParams['font.family'] = 'StixGeneral'\n",
    "rcParams['axes.grid'] = True\n",
    "rcParams['axes.facecolor'] = '#eeeeee'"
   ]
  },
  {
   "cell_type": "code",
   "execution_count": 7,
   "metadata": {},
   "outputs": [],
   "source": [
    "train = pd.read_csv('./data/train_foreclosure.csv')\n",
    "test = pd.read_csv('./data/test_foreclosure.csv')\n",
    "customers = pd.read_excel('./data/Customers_31JAN2019.xlsx')\n",
    "query = pd.read_excel('./data/RF_Final_Data.xlsx')"
   ]
  },
  {
   "cell_type": "code",
   "execution_count": 8,
   "metadata": {},
   "outputs": [],
   "source": [
    "agreements = pd.read_excel('./data/LMS_31JAN2019.xlsx')"
   ]
  },
  {
   "cell_type": "code",
   "execution_count": null,
   "metadata": {},
   "outputs": [],
   "source": []
  },
  {
   "cell_type": "code",
   "execution_count": 13,
   "metadata": {},
   "outputs": [],
   "source": [
    "train_data = train.merge(agreements,on = 'AGREEMENTID',how= 'left').drop_duplicates()\n",
    "test_data = test.merge(agreements,on = 'AGREEMENTID',how= 'left').drop_duplicates()"
   ]
  },
  {
   "cell_type": "code",
   "execution_count": 14,
   "metadata": {},
   "outputs": [],
   "source": [
    "categorical = train_data.select_dtypes(include=[np.object])\n",
    "categorical = categorical.columns\n",
    "numeric = train_data.select_dtypes(include=[np.int,np.float])\n",
    "numeric = numeric.columns\n",
    "datetime = train_data.select_dtypes(include=[np.datetime64])\n",
    "datetime = datetime.columns"
   ]
  },
  {
   "cell_type": "code",
   "execution_count": 15,
   "metadata": {
    "scrolled": false
   },
   "outputs": [
    {
     "data": {
      "text/plain": [
       "(Index(['CITY', 'PRODUCT', 'NPA_IN_LAST_MONTH', 'NPA_IN_CURRENT_MONTH'], dtype='object'),\n",
       " Index(['AGREEMENTID', 'FORECLOSURE', 'CUSTOMERID', 'LOAN_AMT',\n",
       "        'NET_DISBURSED_AMT', 'CURRENT_ROI', 'ORIGNAL_ROI', 'CURRENT_TENOR',\n",
       "        'ORIGNAL_TENOR', 'DUEDAY', 'PRE_EMI_DUEAMT', 'PRE_EMI_RECEIVED_AMT',\n",
       "        'PRE_EMI_OS_AMOUNT', 'EMI_DUEAMT', 'EMI_RECEIVED_AMT', 'EMI_OS_AMOUNT',\n",
       "        'EXCESS_AVAILABLE', 'EXCESS_ADJUSTED_AMT', 'BALANCE_EXCESS',\n",
       "        'NET_RECEIVABLE', 'OUTSTANDING_PRINCIPAL', 'PAID_PRINCIPAL',\n",
       "        'PAID_INTEREST', 'MONTHOPENING', 'LAST_RECEIPT_AMOUNT', 'NET_LTV',\n",
       "        'COMPLETED_TENURE', 'BALANCE_TENURE', 'DPD', 'FOIR', 'SCHEMEID', 'MOB'],\n",
       "       dtype='object'),\n",
       " Index(['INTEREST_START_DATE', 'AUTHORIZATIONDATE', 'LAST_RECEIPT_DATE'], dtype='object'))"
      ]
     },
     "execution_count": 15,
     "metadata": {},
     "output_type": "execute_result"
    }
   ],
   "source": [
    "categorical, numeric, datetime"
   ]
  },
  {
   "cell_type": "markdown",
   "metadata": {},
   "source": [
    "#### basic cleaning only\n"
   ]
  },
  {
   "cell_type": "markdown",
   "metadata": {},
   "source": [
    "1. include this small dummy categories into its parent categories\n",
    "1. normalize skewed numeric variables,(EDA distributions)\n",
    "1. Datetime variables to be dropped"
   ]
  },
  {
   "cell_type": "code",
   "execution_count": 16,
   "metadata": {},
   "outputs": [],
   "source": [
    "from sklearn.preprocessing import MinMaxScaler\n",
    "minmax = MinMaxScaler()"
   ]
  },
  {
   "cell_type": "code",
   "execution_count": 17,
   "metadata": {},
   "outputs": [],
   "source": [
    "# Normalization\n",
    "def norm(data):\n",
    "    #### variables for minmax\n",
    "    skewed = ['LOAN_AMT','NET_DISBURSED_AMT','PRE_EMI_DUEAMT', 'PRE_EMI_RECEIVED_AMT',\n",
    "        'PRE_EMI_OS_AMOUNT','EMI_DUEAMT', 'EMI_RECEIVED_AMT', 'EMI_OS_AMOUNT',\n",
    "        'EXCESS_AVAILABLE', 'EXCESS_ADJUSTED_AMT', 'BALANCE_EXCESS',\n",
    "        'NET_RECEIVABLE', 'OUTSTANDING_PRINCIPAL', 'PAID_PRINCIPAL',\n",
    "        'PAID_INTEREST', 'MONTHOPENING', 'LAST_RECEIPT_AMOUNT']\n",
    "    data[skewed] = minmax.fit_transform(data[skewed])\n"
   ]
  },
  {
   "cell_type": "code",
   "execution_count": 18,
   "metadata": {},
   "outputs": [],
   "source": [
    "norm(train_data)"
   ]
  },
  {
   "cell_type": "code",
   "execution_count": 19,
   "metadata": {},
   "outputs": [],
   "source": [
    "norm(test_data)"
   ]
  },
  {
   "cell_type": "code",
   "execution_count": 14,
   "metadata": {},
   "outputs": [],
   "source": [
    "## adding dummy categories to parent categories"
   ]
  },
  {
   "cell_type": "code",
   "execution_count": 15,
   "metadata": {},
   "outputs": [],
   "source": [
    "# npa_last_month and npa_current_month"
   ]
  },
  {
   "cell_type": "code",
   "execution_count": 20,
   "metadata": {
    "scrolled": false
   },
   "outputs": [
    {
     "data": {
      "text/plain": [
       "0      7308\n",
       "#N/     508\n",
       "Yes     214\n",
       "NPA       3\n",
       "yes       1\n",
       "Name: NPA_IN_LAST_MONTH, dtype: int64"
      ]
     },
     "execution_count": 20,
     "metadata": {},
     "output_type": "execute_result"
    }
   ],
   "source": [
    "train_data['NPA_IN_LAST_MONTH'].value_counts()"
   ]
  },
  {
   "cell_type": "code",
   "execution_count": 21,
   "metadata": {
    "scrolled": false
   },
   "outputs": [
    {
     "data": {
      "text/plain": [
       "0      7814\n",
       "Yes     265\n",
       "yes       1\n",
       "Name: NPA_IN_CURRENT_MONTH, dtype: int64"
      ]
     },
     "execution_count": 21,
     "metadata": {},
     "output_type": "execute_result"
    }
   ],
   "source": [
    "train_data['NPA_IN_CURRENT_MONTH'].value_counts()"
   ]
  },
  {
   "cell_type": "code",
   "execution_count": 22,
   "metadata": {},
   "outputs": [],
   "source": [
    "train_data['NPA_IN_LAST_MONTH'].replace(['yes','Yes'],['YES','YES'],inplace = True)\n",
    "train_data['NPA_IN_CURRENT_MONTH'].replace(['yes','Yes'],['YES','YES'],inplace = True)\n",
    "test_data['NPA_IN_LAST_MONTH'].replace(['yes','Yes'],['YES','YES'],inplace = True)\n",
    "test_data['NPA_IN_CURRENT_MONTH'].replace(['yes','Yes'],['YES','YES'],inplace = True)"
   ]
  },
  {
   "cell_type": "code",
   "execution_count": 23,
   "metadata": {
    "scrolled": true
   },
   "outputs": [
    {
     "data": {
      "text/plain": [
       "AGREEMENTID             -0.276735\n",
       "FORECLOSURE              1.000000\n",
       "CUSTOMERID              -0.276817\n",
       "LOAN_AMT                -0.004955\n",
       "NET_DISBURSED_AMT       -0.004698\n",
       "CURRENT_ROI             -0.006418\n",
       "ORIGNAL_ROI             -0.010118\n",
       "CURRENT_TENOR            0.104760\n",
       "ORIGNAL_TENOR            0.139815\n",
       "DUEDAY                   0.158156\n",
       "PRE_EMI_DUEAMT          -0.005782\n",
       "PRE_EMI_RECEIVED_AMT    -0.005667\n",
       "PRE_EMI_OS_AMOUNT       -0.004267\n",
       "EMI_DUEAMT               0.004030\n",
       "EMI_RECEIVED_AMT         0.005082\n",
       "EMI_OS_AMOUNT           -0.010219\n",
       "EXCESS_AVAILABLE         0.004263\n",
       "EXCESS_ADJUSTED_AMT      0.004619\n",
       "BALANCE_EXCESS          -0.001191\n",
       "NET_RECEIVABLE          -0.007843\n",
       "OUTSTANDING_PRINCIPAL   -0.005219\n",
       "PAID_PRINCIPAL          -0.001777\n",
       "PAID_INTEREST            0.012129\n",
       "MONTHOPENING            -0.003318\n",
       "LAST_RECEIPT_AMOUNT     -0.005080\n",
       "NET_LTV                  0.032306\n",
       "COMPLETED_TENURE         0.070595\n",
       "BALANCE_TENURE           0.077161\n",
       "DPD                     -0.000477\n",
       "FOIR                    -0.001947\n",
       "SCHEMEID                -0.244691\n",
       "MOB                      0.070176\n",
       "Name: FORECLOSURE, dtype: float64"
      ]
     },
     "execution_count": 23,
     "metadata": {},
     "output_type": "execute_result"
    }
   ],
   "source": [
    "corr = train_data.corr()\n",
    "corr['FORECLOSURE']"
   ]
  },
  {
   "cell_type": "markdown",
   "metadata": {},
   "source": [
    "### Feature Engineering"
   ]
  },
  {
   "cell_type": "code",
   "execution_count": 21,
   "metadata": {
    "scrolled": false
   },
   "outputs": [
    {
     "data": {
      "text/plain": [
       "Index(['AGREEMENTID', 'FORECLOSURE', 'CUSTOMERID', 'LOAN_AMT',\n",
       "       'NET_DISBURSED_AMT', 'INTEREST_START_DATE', 'CURRENT_ROI',\n",
       "       'ORIGNAL_ROI', 'CURRENT_TENOR', 'ORIGNAL_TENOR', 'DUEDAY',\n",
       "       'AUTHORIZATIONDATE', 'CITY', 'PRE_EMI_DUEAMT', 'PRE_EMI_RECEIVED_AMT',\n",
       "       'PRE_EMI_OS_AMOUNT', 'EMI_DUEAMT', 'EMI_RECEIVED_AMT', 'EMI_OS_AMOUNT',\n",
       "       'EXCESS_AVAILABLE', 'EXCESS_ADJUSTED_AMT', 'BALANCE_EXCESS',\n",
       "       'NET_RECEIVABLE', 'OUTSTANDING_PRINCIPAL', 'PAID_PRINCIPAL',\n",
       "       'PAID_INTEREST', 'MONTHOPENING', 'LAST_RECEIPT_DATE',\n",
       "       'LAST_RECEIPT_AMOUNT', 'NET_LTV', 'COMPLETED_TENURE', 'BALANCE_TENURE',\n",
       "       'DPD', 'FOIR', 'PRODUCT', 'SCHEMEID', 'NPA_IN_LAST_MONTH',\n",
       "       'NPA_IN_CURRENT_MONTH', 'MOB'],\n",
       "      dtype='object')"
      ]
     },
     "execution_count": 21,
     "metadata": {},
     "output_type": "execute_result"
    }
   ],
   "source": [
    "train_data.columns"
   ]
  },
  {
   "cell_type": "code",
   "execution_count": null,
   "metadata": {
    "scrolled": true
   },
   "outputs": [],
   "source": []
  },
  {
   "cell_type": "code",
   "execution_count": 22,
   "metadata": {},
   "outputs": [],
   "source": [
    "train_data['CURRENT_TENOR'].fillna(train_new['ORIGNAL_TENOR'],inplace = True)\n",
    "train_data['LAST_RECEIPT_AMOUNT'].fillna(0,inplace = True)# as its not paid on that date\n",
    "train_data['DPD'].fillna(0,inplace = True)# as the tenure hasn't even started for the NaN cases\n",
    "train_data['BALANCE_TENURE'].fillna(train_new['ORIGNAL_TENOR'],inplace = True)\n",
    "\n",
    "test_data['CURRENT_TENOR'].fillna(test_new['ORIGNAL_TENOR'],inplace = True)\n",
    "test_data['LAST_RECEIPT_AMOUNT'].fillna(0,inplace = True)# as its not paid on that date\n",
    "test_data['DPD'].fillna(0,inplace = True)# as the tenure hasn't even started for the NaN cases\n",
    "test_data['BALANCE_TENURE'].fillna(test_new['ORIGNAL_TENOR'],inplace = True)\n",
    "\n"
   ]
  },
  {
   "cell_type": "code",
   "execution_count": 23,
   "metadata": {
    "scrolled": true
   },
   "outputs": [
    {
     "data": {
      "text/plain": [
       "97"
      ]
     },
     "execution_count": 23,
     "metadata": {},
     "output_type": "execute_result"
    }
   ],
   "source": [
    "test_data[test_data['MOB'].isin(train_data['MOB'].unique())]['MOB'].nunique()\n",
    "## so all the MOB codes are the same in train and test\n",
    "# lets check if a MOB code signifies only one label"
   ]
  },
  {
   "cell_type": "code",
   "execution_count": 24,
   "metadata": {
    "scrolled": false
   },
   "outputs": [
    {
     "data": {
      "text/plain": [
       "0    2134\n",
       "1     374\n",
       "Name: FORECLOSURE, dtype: int64"
      ]
     },
     "execution_count": 24,
     "metadata": {},
     "output_type": "execute_result"
    }
   ],
   "source": [
    "train_data[train_data['MOB']==39].FORECLOSURE.value_counts()"
   ]
  },
  {
   "cell_type": "code",
   "execution_count": 25,
   "metadata": {
    "scrolled": false
   },
   "outputs": [
    {
     "data": {
      "text/plain": [
       "0    2006\n",
       "1     358\n",
       "Name: FORECLOSURE, dtype: int64"
      ]
     },
     "execution_count": 25,
     "metadata": {},
     "output_type": "execute_result"
    }
   ],
   "source": [
    "train_data[train_data['MOB']==40].FORECLOSURE.value_counts()"
   ]
  },
  {
   "cell_type": "code",
   "execution_count": 26,
   "metadata": {},
   "outputs": [],
   "source": [
    "## almost all the codes have same distribution of labels, lets try including the label into features,\n",
    "## if doesnt turn out good then will remove, rn we will use mean encoding, try label encoding as well"
   ]
  },
  {
   "cell_type": "code",
   "execution_count": null,
   "metadata": {},
   "outputs": [],
   "source": []
  },
  {
   "cell_type": "code",
   "execution_count": 27,
   "metadata": {},
   "outputs": [],
   "source": [
    "### dropping a few features, keeping PRODUCT, NPA_IN_LAST_MONTH\n",
    "drop = ['CUSTOMERID','INTEREST_START_DATE','AUTHORIZATIONDATE','CITY','NPA_IN_LAST_MONTH','NPA_IN_CURRENT_MONTH','LAST_RECEIPT_DATE', 'SCHEMEID']\n",
    "train_new = train_data.drop(drop,axis = 1)\n",
    "test_new = test_data.drop(drop,axis = 1)"
   ]
  },
  {
   "cell_type": "code",
   "execution_count": 28,
   "metadata": {},
   "outputs": [],
   "source": [
    "### mean encoding"
   ]
  },
  {
   "cell_type": "code",
   "execution_count": 29,
   "metadata": {
    "scrolled": true
   },
   "outputs": [],
   "source": [
    "global means, means1#, means2"
   ]
  },
  {
   "cell_type": "code",
   "execution_count": 30,
   "metadata": {
    "scrolled": true
   },
   "outputs": [],
   "source": [
    "means = train_new.groupby(['PRODUCT']).FORECLOSURE.mean()\n",
    "# means1 =  train_new.groupby(['MOB']).FORECLOSURE.mean()\n",
    "# means2 =   train_new.groupby(['NPA_IN_CURRENT_MONTH']).FORECLOSURE.mean()"
   ]
  },
  {
   "cell_type": "code",
   "execution_count": 31,
   "metadata": {},
   "outputs": [],
   "source": [
    "def map(data):\n",
    "    data['PRODUCT'] = data['PRODUCT'].map(means)\n",
    "#     data['MOB'] = data['MOB'].map(means1)\n",
    "#     data['NPA_IN_CURRENT_MONTH'] = data['NPA_IN_CURRENT_MONTH'].map(means2)"
   ]
  },
  {
   "cell_type": "code",
   "execution_count": 32,
   "metadata": {},
   "outputs": [],
   "source": [
    "map(train_new)"
   ]
  },
  {
   "cell_type": "code",
   "execution_count": 33,
   "metadata": {},
   "outputs": [],
   "source": [
    "map(test_new)"
   ]
  },
  {
   "cell_type": "markdown",
   "metadata": {},
   "source": [
    "### Model"
   ]
  },
  {
   "cell_type": "code",
   "execution_count": 35,
   "metadata": {},
   "outputs": [],
   "source": [
    "from sklearn.model_selection import train_test_split"
   ]
  },
  {
   "cell_type": "code",
   "execution_count": 59,
   "metadata": {},
   "outputs": [],
   "source": [
    "X_train,X_val,y_train,y_val = train_test_split(train_new.drop(['FORECLOSURE'],axis = 1),train_new['FORECLOSURE'],test_size = 0.2,random_state = 42)"
   ]
  },
  {
   "cell_type": "code",
   "execution_count": 60,
   "metadata": {
    "scrolled": true
   },
   "outputs": [
    {
     "name": "stdout",
     "output_type": "stream",
     "text": [
      "x_t [[7.33798957e-03 7.33798957e-03 1.62311760e+01 ... 4.90000000e-01\n",
      "  1.51046771e-01 5.30000000e+01]\n",
      " [1.58783485e-02 1.58783485e-02 1.06126920e+01 ... 5.40000000e-01\n",
      "  3.42102941e-01 4.00000000e+00]\n",
      " [2.63659093e-03 2.63659093e-03 1.59190380e+01 ... 4.40000000e-01\n",
      "  2.38073737e-04 1.60000000e+01]\n",
      " ...\n",
      " [3.53284413e-03 3.53284413e-03 1.74797280e+01 ... 3.70000000e-01\n",
      "  1.51046771e-01 1.80000000e+01]\n",
      " [4.15524710e-03 4.15524710e-03 1.74797280e+01 ... 3.00000000e-01\n",
      "  1.51046771e-01 4.20000000e+01]\n",
      " [7.16962840e-03 7.16117054e-03 1.74797280e+01 ... 3.90000000e-01\n",
      "  1.51046771e-01 2.00000000e+00]]\n",
      "y_train [0 0 0 ... 0 0 0]\n",
      "x_v [[3.56290337e-02 3.56290337e-02 1.37340720e+01 ... 5.00000000e-02\n",
      "  2.38073737e-04 2.00000000e+00]\n",
      " [4.29554947e-03 4.29554947e-03 1.43583480e+01 ... 4.70000000e-01\n",
      "  1.51046771e-01 6.00000000e+00]\n",
      " [2.14324463e-02 2.14324463e-02 1.49826240e+01 ... 1.33000000e+00\n",
      "  2.38073737e-04 4.00000000e+00]\n",
      " ...\n",
      " [3.44797100e-03 3.44797100e-03 1.52947620e+01 ... 4.80000000e-01\n",
      "  1.51046771e-01 3.20000000e+01]\n",
      " [4.23481567e-02 4.23481567e-02 1.52947620e+01 ... 9.30000000e-01\n",
      "  2.38073737e-04 4.50000000e+01]\n",
      " [9.74257625e-03 9.74257625e-03 1.34219340e+01 ... 7.30000000e-01\n",
      "  2.38073737e-04 8.00000000e+00]]\n",
      "y_valid [0 0 0 ... 0 0 0]\n"
     ]
    }
   ],
   "source": [
    "                                     \n",
    "x_t = X_train.drop(['AGREEMENTID'],axis = 1)\n",
    "# x_t = x_t.values\n",
    "# y_train = y_train.values\n",
    "# y_train = y_train[:,0]\n",
    "print('x_t', x_t)\n",
    "print('y_train', y_train)\n",
    "\n",
    "\n",
    "x_v = X_val.drop(['AGREEMENTID'],axis = 1)\n",
    "# x_v = x_v.values\n",
    "# y_val = y_val.values\n",
    "# y_valid = y_valid[:,0]\n",
    "print('x_v',x_v)\n",
    "print('y_valid', y_val)\n"
   ]
  },
  {
   "cell_type": "code",
   "execution_count": 55,
   "metadata": {
    "scrolled": true
   },
   "outputs": [
    {
     "data": {
      "text/plain": [
       "0.9791502596206468"
      ]
     },
     "execution_count": 55,
     "metadata": {},
     "output_type": "execute_result"
    }
   ],
   "source": [
    "import xgboost \n",
    "from xgboost import XGBClassifier\n",
    "model = XGBClassifier(max_depth=10,min_child_weight=5)\n",
    "model.fit(x_t,y_train)\n",
    "model.score(x_t,y_train)\n",
    "# 0.9791502596206468"
   ]
  },
  {
   "cell_type": "code",
   "execution_count": 61,
   "metadata": {
    "scrolled": false
   },
   "outputs": [
    {
     "data": {
      "text/plain": [
       "0.9763738537314628"
      ]
     },
     "execution_count": 61,
     "metadata": {},
     "output_type": "execute_result"
    }
   ],
   "source": [
    "model.score(x_v,y_val)\n",
    "# 0.9754127901544376"
   ]
  },
  {
   "cell_type": "code",
   "execution_count": 62,
   "metadata": {
    "scrolled": true
   },
   "outputs": [
    {
     "data": {
      "text/plain": [
       "0.8857535672811244"
      ]
     },
     "execution_count": 62,
     "metadata": {},
     "output_type": "execute_result"
    }
   ],
   "source": [
    "1- np.mean(y_val)"
   ]
  },
  {
   "cell_type": "code",
   "execution_count": 63,
   "metadata": {
    "scrolled": false
   },
   "outputs": [
    {
     "data": {
      "text/plain": [
       "0.9943588772201765"
      ]
     },
     "execution_count": 63,
     "metadata": {},
     "output_type": "execute_result"
    }
   ],
   "source": [
    "from sklearn.metrics import roc_auc_score, confusion_matrix, roc_curve, classification_report\n",
    "probab = model.predict_proba(x_v)\n",
    "probab = probab[:,1]\n",
    "roc_auc_score(y_val,probab)\n",
    "# 0.9942758878268141"
   ]
  },
  {
   "cell_type": "code",
   "execution_count": 65,
   "metadata": {},
   "outputs": [
    {
     "name": "stdout",
     "output_type": "stream",
     "text": [
      "AUC Score is 0.9943588772201765\n"
     ]
    }
   ],
   "source": [
    "print('AUC Score is {}'.format(roc_auc_score(y_val,probab)))"
   ]
  },
  {
   "cell_type": "code",
   "execution_count": 71,
   "metadata": {
    "scrolled": true
   },
   "outputs": [
    {
     "data": {
      "image/png": "[encoded data removed]",
      "text/plain": [
       "<Figure size 450x450 with 1 Axes>"
      ]
     },
     "metadata": {},
     "output_type": "display_data"
    }
   ],
   "source": [
    "plt.figure(figsize=(3,3))\n",
    "y_pred_proba = model.predict_proba(x_v)[::,1]\n",
    "fpr, tpr, _ = roc_curve(y_val,  y_pred_proba)\n",
    "auc = roc_auc_score(y_val, y_pred_proba)\n",
    "plt.plot(fpr,tpr,label=\"data 1, auc=\"+str(auc))\n",
    "plt.legend(loc=4)\n",
    "plt.show()"
   ]
  },
  {
   "cell_type": "code",
   "execution_count": 73,
   "metadata": {
    "scrolled": false
   },
   "outputs": [
    {
     "data": {
      "text/plain": [
       "array([[66090,   268],\n",
       "       [ 1502,  7057]])"
      ]
     },
     "execution_count": 73,
     "metadata": {},
     "output_type": "execute_result"
    }
   ],
   "source": [
    "confusion_matrix(y_val,model.predict(x_v))"
   ]
  },
  {
   "cell_type": "code",
   "execution_count": 74,
   "metadata": {
    "scrolled": false
   },
   "outputs": [
    {
     "name": "stdout",
     "output_type": "stream",
     "text": [
      "              precision    recall  f1-score   support\n",
      "\n",
      "           0       0.98      1.00      0.99     66358\n",
      "           1       0.96      0.82      0.89      8559\n",
      "\n",
      "   micro avg       0.98      0.98      0.98     74917\n",
      "   macro avg       0.97      0.91      0.94     74917\n",
      "weighted avg       0.98      0.98      0.98     74917\n",
      "\n"
     ]
    }
   ],
   "source": [
    "print(classification_report(y_val,model.predict(x_v)))"
   ]
  },
  {
   "cell_type": "markdown",
   "metadata": {},
   "source": [
    "### But these results are basically raw ones with one agreement having more than one datapoint so lets take mode of the labels for an agreement as a final prediction and for probabilities take mean of all probabilities of an agreement "
   ]
  },
  {
   "cell_type": "code",
   "execution_count": 75,
   "metadata": {},
   "outputs": [],
   "source": [
    "check_x = x_v.set_index(X_val['AGREEMENTID'])"
   ]
  },
  {
   "cell_type": "code",
   "execution_count": 76,
   "metadata": {},
   "outputs": [],
   "source": [
    "check_x.set_index(X_val['AGREEMENTID'],inplace = True)"
   ]
  },
  {
   "cell_type": "code",
   "execution_count": 77,
   "metadata": {
    "scrolled": true
   },
   "outputs": [],
   "source": [
    "check_y = pd.DataFrame(y_val).set_index(X_val['AGREEMENTID'])"
   ]
  },
  {
   "cell_type": "code",
   "execution_count": 78,
   "metadata": {
    "scrolled": true
   },
   "outputs": [],
   "source": [
    "check_pred = pd.DataFrame(model.predict(x_v)).set_index(X_val['AGREEMENTID'])"
   ]
  },
  {
   "cell_type": "code",
   "execution_count": 79,
   "metadata": {},
   "outputs": [],
   "source": [
    "check_probab = pd.DataFrame(model.predict_proba(x_v)).set_index(X_val['AGREEMENTID'])"
   ]
  },
  {
   "cell_type": "code",
   "execution_count": 80,
   "metadata": {
    "scrolled": true
   },
   "outputs": [],
   "source": [
    "import scipy.stats as stats\n",
    "# new_y = check_y.reset_index().groupby(['AGREEMENTID'])['FORECLOSURE'].agg({'y':np.mean})\n",
    "new_y = check_y.reset_index().groupby(['AGREEMENTID'])['FORECLOSURE'].agg(lambda x: stats.mode(x)[0][0])"
   ]
  },
  {
   "cell_type": "code",
   "execution_count": 81,
   "metadata": {
    "scrolled": true
   },
   "outputs": [],
   "source": [
    "# new_pred = check_pred.reset_index().groupby(['AGREEMENTID'])[0].agg({'y':stats.mode(axis = None)})\n",
    "new_pred = check_pred.reset_index().groupby(['AGREEMENTID'])[0].agg(lambda x: stats.mode(x)[0][0])"
   ]
  },
  {
   "cell_type": "code",
   "execution_count": 82,
   "metadata": {},
   "outputs": [],
   "source": [
    "new_probab = check_probab.reset_index().groupby(['AGREEMENTID'])[1].agg({'probab':np.mean})"
   ]
  },
  {
   "cell_type": "code",
   "execution_count": 83,
   "metadata": {
    "scrolled": false
   },
   "outputs": [
    {
     "data": {
      "text/plain": [
       "0.9784098105820715"
      ]
     },
     "execution_count": 83,
     "metadata": {},
     "output_type": "execute_result"
    }
   ],
   "source": [
    "np.mean(new_pred==new_y)"
   ]
  },
  {
   "cell_type": "code",
   "execution_count": 84,
   "metadata": {
    "scrolled": false
   },
   "outputs": [
    {
     "data": {
      "text/plain": [
       "0    15688\n",
       "1     1681\n",
       "Name: FORECLOSURE, dtype: int64"
      ]
     },
     "execution_count": 84,
     "metadata": {},
     "output_type": "execute_result"
    }
   ],
   "source": [
    "new_y.value_counts()"
   ]
  },
  {
   "cell_type": "code",
   "execution_count": 85,
   "metadata": {
    "scrolled": false
   },
   "outputs": [
    {
     "data": {
      "text/plain": [
       "0.993846469571274"
      ]
     },
     "execution_count": 85,
     "metadata": {},
     "output_type": "execute_result"
    }
   ],
   "source": [
    "roc_auc_score(new_y,new_probab)"
   ]
  },
  {
   "cell_type": "code",
   "execution_count": 86,
   "metadata": {
    "scrolled": true
   },
   "outputs": [
    {
     "data": {
      "image/png": "[encoded data removed]",
      "text/plain": [
       "<Figure size 450x450 with 1 Axes>"
      ]
     },
     "metadata": {},
     "output_type": "display_data"
    }
   ],
   "source": [
    "plt.figure(figsize=(3,3))\n",
    "y_pred_proba_new = new_probab\n",
    "fpr, tpr, _ = roc_curve(new_y,  y_pred_proba_new)\n",
    "auc = roc_auc_score(new_y, y_pred_proba_new)\n",
    "plt.plot(fpr,tpr,label=\"data 1, auc=\"+str(auc))\n",
    "plt.legend(loc=4)\n",
    "plt.show()"
   ]
  },
  {
   "cell_type": "code",
   "execution_count": 87,
   "metadata": {
    "scrolled": false
   },
   "outputs": [
    {
     "data": {
      "text/plain": [
       "array([[15668,    20],\n",
       "       [  355,  1326]])"
      ]
     },
     "execution_count": 87,
     "metadata": {},
     "output_type": "execute_result"
    }
   ],
   "source": [
    "confusion_matrix(new_y,new_pred)"
   ]
  },
  {
   "cell_type": "code",
   "execution_count": 88,
   "metadata": {
    "scrolled": true
   },
   "outputs": [
    {
     "name": "stdout",
     "output_type": "stream",
     "text": [
      "              precision    recall  f1-score   support\n",
      "\n",
      "           0       0.98      1.00      0.99     15688\n",
      "           1       0.99      0.79      0.88      1681\n",
      "\n",
      "   micro avg       0.98      0.98      0.98     17369\n",
      "   macro avg       0.98      0.89      0.93     17369\n",
      "weighted avg       0.98      0.98      0.98     17369\n",
      "\n"
     ]
    }
   ],
   "source": [
    "print(classification_report(new_y,new_pred))"
   ]
  },
  {
   "cell_type": "markdown",
   "metadata": {},
   "source": [
    "### 1st Submission"
   ]
  },
  {
   "cell_type": "code",
   "execution_count": 89,
   "metadata": {},
   "outputs": [],
   "source": [
    "X = train_new.drop(['FORECLOSURE','AGREEMENTID'],axis = 1)\n",
    "y = train_new['FORECLOSURE']"
   ]
  },
  {
   "cell_type": "code",
   "execution_count": 90,
   "metadata": {},
   "outputs": [
    {
     "data": {
      "text/plain": [
       "0.980768049975306"
      ]
     },
     "execution_count": 90,
     "metadata": {},
     "output_type": "execute_result"
    }
   ],
   "source": [
    "model_sub =  XGBClassifier(max_depth=10,min_child_weight=5)\n",
    "model_sub.fit(X,y)\n",
    "model_sub.score(X,y)"
   ]
  },
  {
   "cell_type": "code",
   "execution_count": 91,
   "metadata": {},
   "outputs": [],
   "source": [
    "x_t = test_new.drop(['AGREEMENTID','FORECLOSURE'],axis = 1)"
   ]
  },
  {
   "cell_type": "code",
   "execution_count": 92,
   "metadata": {
    "scrolled": true
   },
   "outputs": [],
   "source": [
    "check_pred_test = pd.DataFrame(model_sub.predict(x_t)).set_index(test_new['AGREEMENTID'])"
   ]
  },
  {
   "cell_type": "code",
   "execution_count": 93,
   "metadata": {},
   "outputs": [],
   "source": [
    "check_probab_test = pd.DataFrame(model_sub.predict_proba(x_t)).set_index(test_new['AGREEMENTID'])"
   ]
  },
  {
   "cell_type": "code",
   "execution_count": 94,
   "metadata": {},
   "outputs": [],
   "source": [
    "new_pred_test = check_pred_test.reset_index().groupby(['AGREEMENTID'])[0].agg(lambda x: stats.mode(x)[0][0])"
   ]
  },
  {
   "cell_type": "code",
   "execution_count": 95,
   "metadata": {},
   "outputs": [],
   "source": [
    "new_probab_test = check_probab_test.reset_index().groupby(['AGREEMENTID'])[1].agg({'probab':np.mean})"
   ]
  },
  {
   "cell_type": "code",
   "execution_count": 96,
   "metadata": {},
   "outputs": [
    {
     "data": {
      "text/plain": [
       "(13342, 1)"
      ]
     },
     "execution_count": 96,
     "metadata": {},
     "output_type": "execute_result"
    }
   ],
   "source": [
    "new_probab_test.shape"
   ]
  },
  {
   "cell_type": "code",
   "execution_count": 97,
   "metadata": {
    "scrolled": true
   },
   "outputs": [
    {
     "data": {
      "text/plain": [
       "1.0"
      ]
     },
     "execution_count": 97,
     "metadata": {},
     "output_type": "execute_result"
    }
   ],
   "source": [
    "np.mean(test['AGREEMENTID']==new_probab_test.index)"
   ]
  },
  {
   "cell_type": "code",
   "execution_count": 98,
   "metadata": {},
   "outputs": [],
   "source": [
    "new_probab_test.reset_index(inplace = True)"
   ]
  },
  {
   "cell_type": "code",
   "execution_count": 99,
   "metadata": {},
   "outputs": [],
   "source": [
    "new_probab_test.rename(columns={'probab':'FORECLOSURE'},inplace = True)"
   ]
  },
  {
   "cell_type": "code",
   "execution_count": 100,
   "metadata": {},
   "outputs": [],
   "source": [
    "new_probab_test.to_csv('5th_submission.csv',index = False,header=True)"
   ]
  },
  {
   "cell_type": "code",
   "execution_count": 1,
   "metadata": {},
   "outputs": [],
   "source": [
    "### increased the leaderboard score by 5th submission"
   ]
  },
  {
   "cell_type": "code",
   "execution_count": null,
   "metadata": {},
   "outputs": [],
   "source": []
  }
 ],
 "metadata": {
  "kernelspec": {
   "display_name": "Python 3",
   "language": "python",
   "name": "python3"
  },
  "language_info": {
   "codemirror_mode": {
    "name": "ipython",
    "version": 3
   },
   "file_extension": ".py",
   "mimetype": "text/x-python",
   "name": "python",
   "nbconvert_exporter": "python",
   "pygments_lexer": "ipython3",
   "version": "3.6.5"
  }
 },
 "nbformat": 4,
 "nbformat_minor": 2
}
